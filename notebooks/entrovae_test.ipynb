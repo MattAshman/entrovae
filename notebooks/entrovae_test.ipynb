{
 "cells": [
  {
   "cell_type": "code",
   "execution_count": 290,
   "metadata": {},
   "outputs": [],
   "source": [
    "import torch\n",
    "import torch.nn as nn\n",
    "import torch.optim as optim\n",
    "import torch.nn.functional as F\n",
    "import tqdm.notebook as tqdm\n",
    "import copy\n",
    "import os\n",
    "\n",
    "from torchvision import datasets, transforms\n",
    "from torchvision.utils import save_image\n",
    "from torch.optim.lr_scheduler import StepLR\n",
    "\n",
    "\n",
    "import sys\n",
    "sys.path.append('/Users/Matt/projects/sgpvae/')\n",
    "import sgpvae"
   ]
  },
  {
   "cell_type": "markdown",
   "metadata": {},
   "source": [
    "## Data preparation."
   ]
  },
  {
   "cell_type": "code",
   "execution_count": 291,
   "metadata": {},
   "outputs": [],
   "source": [
    "transform=transforms.Compose([\n",
    "        transforms.ToTensor(),\n",
    "        ])\n",
    "\n",
    "train_dataset = datasets.MNIST('../data', train=True, download=True,\n",
    "                               transform=transform)\n",
    "test_dataset = datasets.MNIST('../data', train=False,\n",
    "                              transform=transform)\n",
    "\n",
    "train_loader = torch.utils.data.DataLoader(train_dataset, batch_size=64, shuffle=True)\n",
    "test_loader = torch.utils.data.DataLoader(test_dataset, batch_size=1000, shuffle=False)"
   ]
  },
  {
   "cell_type": "markdown",
   "metadata": {},
   "source": [
    "## Classifier training."
   ]
  },
  {
   "cell_type": "code",
   "execution_count": 292,
   "metadata": {},
   "outputs": [],
   "source": [
    "def train(model, train_loader, optimiser, epoch):\n",
    "    model.train()\n",
    "    batch_iter = tqdm.tqdm(enumerate(train_loader), desc='Batch')\n",
    "    for batch_idx, (data, target) in batch_iter:\n",
    "        optimiser.zero_grad()\n",
    "        output = model(data)\n",
    "        loss = F.nll_loss(output, target)\n",
    "        loss.backward()\n",
    "        optimiser.step()\n",
    "        \n",
    "        if batch_idx % 10 == 0:\n",
    "            print('Train Epoch: {} [{}/{} ({:.0f}%)]\\tLoss: {:.6f}'.format(\n",
    "                epoch, batch_idx * len(data), len(train_loader.dataset),\n",
    "                100. * batch_idx / len(train_loader), loss.item()))"
   ]
  },
  {
   "cell_type": "code",
   "execution_count": 293,
   "metadata": {},
   "outputs": [],
   "source": [
    "def test(model, test_loader):\n",
    "    model.eval()\n",
    "    test_loss = 0\n",
    "    correct = 0\n",
    "    with torch.no_grad():\n",
    "        for data, target in test_loader:\n",
    "            output = model(data)\n",
    "            test_loss += F.nll_loss(output, target, reduction='sum').item()\n",
    "            pred = output.argmax(dim=1, keepdim=True)\n",
    "            correct += pred.eq(target.view_as(pred)).sum().item()\n",
    "            \n",
    "    test_loss /= len(test_loader.dataset)\n",
    "    \n",
    "    print('\\nTest set: Average loss: {:.4f}, Accuracy: {}/{} ({:.0f}%)\\n'.format(\n",
    "        test_loss, correct, len(test_loader.dataset),\n",
    "        100. * correct / len(test_loader.dataset)))"
   ]
  },
  {
   "cell_type": "code",
   "execution_count": 140,
   "metadata": {},
   "outputs": [],
   "source": [
    "cls = ClassificationNet()\n",
    "cls_optimiser = optim.Adadelta(cls.parameters(), lr=1.0)\n",
    "cls_scheduler = StepLR(optimiser, step_size=1, gamma=0.7)"
   ]
  },
  {
   "cell_type": "code",
   "execution_count": 141,
   "metadata": {
    "scrolled": true
   },
   "outputs": [
    {
     "data": {
      "application/vnd.jupyter.widget-view+json": {
       "model_id": "c0f04a678c2944d0b3a4a6570873d51d",
       "version_major": 2,
       "version_minor": 0
      },
      "text/plain": [
       "HBox(children=(HTML(value='Batch'), FloatProgress(value=1.0, bar_style='info', layout=Layout(width='20px'), ma…"
      ]
     },
     "metadata": {},
     "output_type": "display_data"
    },
    {
     "name": "stdout",
     "output_type": "stream",
     "text": [
      "Train Epoch: 1 [0/60000 (0%)]\tLoss: 2.308736\n",
      "Train Epoch: 1 [640/60000 (1%)]\tLoss: 1.715233\n",
      "Train Epoch: 1 [1280/60000 (2%)]\tLoss: 1.351968\n",
      "Train Epoch: 1 [1920/60000 (3%)]\tLoss: 0.841422\n",
      "Train Epoch: 1 [2560/60000 (4%)]\tLoss: 0.740839\n",
      "Train Epoch: 1 [3200/60000 (5%)]\tLoss: 0.491377\n",
      "Train Epoch: 1 [3840/60000 (6%)]\tLoss: 0.412979\n",
      "Train Epoch: 1 [4480/60000 (7%)]\tLoss: 0.549440\n",
      "Train Epoch: 1 [5120/60000 (9%)]\tLoss: 0.374979\n",
      "Train Epoch: 1 [5760/60000 (10%)]\tLoss: 0.254062\n",
      "Train Epoch: 1 [6400/60000 (11%)]\tLoss: 0.313764\n",
      "Train Epoch: 1 [7040/60000 (12%)]\tLoss: 0.480454\n",
      "Train Epoch: 1 [7680/60000 (13%)]\tLoss: 0.336323\n",
      "Train Epoch: 1 [8320/60000 (14%)]\tLoss: 0.432512\n",
      "Train Epoch: 1 [8960/60000 (15%)]\tLoss: 0.263767\n",
      "Train Epoch: 1 [9600/60000 (16%)]\tLoss: 0.231215\n",
      "Train Epoch: 1 [10240/60000 (17%)]\tLoss: 0.284241\n",
      "Train Epoch: 1 [10880/60000 (18%)]\tLoss: 0.168324\n",
      "Train Epoch: 1 [11520/60000 (19%)]\tLoss: 0.256327\n",
      "Train Epoch: 1 [12160/60000 (20%)]\tLoss: 0.153247\n",
      "Train Epoch: 1 [12800/60000 (21%)]\tLoss: 0.147244\n",
      "Train Epoch: 1 [13440/60000 (22%)]\tLoss: 0.261937\n",
      "Train Epoch: 1 [14080/60000 (23%)]\tLoss: 0.229969\n",
      "Train Epoch: 1 [14720/60000 (25%)]\tLoss: 0.102560\n",
      "Train Epoch: 1 [15360/60000 (26%)]\tLoss: 0.210282\n",
      "Train Epoch: 1 [16000/60000 (27%)]\tLoss: 0.197703\n",
      "Train Epoch: 1 [16640/60000 (28%)]\tLoss: 0.153483\n",
      "Train Epoch: 1 [17280/60000 (29%)]\tLoss: 0.189593\n",
      "Train Epoch: 1 [17920/60000 (30%)]\tLoss: 0.146664\n",
      "Train Epoch: 1 [18560/60000 (31%)]\tLoss: 0.047287\n",
      "Train Epoch: 1 [19200/60000 (32%)]\tLoss: 0.373599\n",
      "Train Epoch: 1 [19840/60000 (33%)]\tLoss: 0.200059\n",
      "Train Epoch: 1 [20480/60000 (34%)]\tLoss: 0.222697\n",
      "Train Epoch: 1 [21120/60000 (35%)]\tLoss: 0.136414\n",
      "Train Epoch: 1 [21760/60000 (36%)]\tLoss: 0.179561\n",
      "Train Epoch: 1 [22400/60000 (37%)]\tLoss: 0.062530\n",
      "Train Epoch: 1 [23040/60000 (38%)]\tLoss: 0.127619\n",
      "Train Epoch: 1 [23680/60000 (39%)]\tLoss: 0.158795\n",
      "Train Epoch: 1 [24320/60000 (41%)]\tLoss: 0.084543\n",
      "Train Epoch: 1 [24960/60000 (42%)]\tLoss: 0.195219\n",
      "Train Epoch: 1 [25600/60000 (43%)]\tLoss: 0.163253\n",
      "Train Epoch: 1 [26240/60000 (44%)]\tLoss: 0.135547\n",
      "Train Epoch: 1 [26880/60000 (45%)]\tLoss: 0.106490\n",
      "Train Epoch: 1 [27520/60000 (46%)]\tLoss: 0.080865\n",
      "Train Epoch: 1 [28160/60000 (47%)]\tLoss: 0.103731\n",
      "Train Epoch: 1 [28800/60000 (48%)]\tLoss: 0.135090\n",
      "Train Epoch: 1 [29440/60000 (49%)]\tLoss: 0.122073\n",
      "Train Epoch: 1 [30080/60000 (50%)]\tLoss: 0.089350\n",
      "Train Epoch: 1 [30720/60000 (51%)]\tLoss: 0.131290\n",
      "Train Epoch: 1 [31360/60000 (52%)]\tLoss: 0.087936\n",
      "Train Epoch: 1 [32000/60000 (53%)]\tLoss: 0.086211\n",
      "Train Epoch: 1 [32640/60000 (54%)]\tLoss: 0.338410\n",
      "Train Epoch: 1 [33280/60000 (55%)]\tLoss: 0.288309\n",
      "Train Epoch: 1 [33920/60000 (57%)]\tLoss: 0.200844\n",
      "Train Epoch: 1 [34560/60000 (58%)]\tLoss: 0.050953\n",
      "Train Epoch: 1 [35200/60000 (59%)]\tLoss: 0.363670\n",
      "Train Epoch: 1 [35840/60000 (60%)]\tLoss: 0.176629\n",
      "Train Epoch: 1 [36480/60000 (61%)]\tLoss: 0.032982\n",
      "Train Epoch: 1 [37120/60000 (62%)]\tLoss: 0.100028\n",
      "Train Epoch: 1 [37760/60000 (63%)]\tLoss: 0.069218\n",
      "Train Epoch: 1 [38400/60000 (64%)]\tLoss: 0.369640\n",
      "Train Epoch: 1 [39040/60000 (65%)]\tLoss: 0.267710\n",
      "Train Epoch: 1 [39680/60000 (66%)]\tLoss: 0.113566\n",
      "Train Epoch: 1 [40320/60000 (67%)]\tLoss: 0.178076\n",
      "Train Epoch: 1 [40960/60000 (68%)]\tLoss: 0.172915\n",
      "Train Epoch: 1 [41600/60000 (69%)]\tLoss: 0.090527\n",
      "Train Epoch: 1 [42240/60000 (70%)]\tLoss: 0.131468\n",
      "Train Epoch: 1 [42880/60000 (71%)]\tLoss: 0.118895\n",
      "Train Epoch: 1 [43520/60000 (72%)]\tLoss: 0.049130\n",
      "Train Epoch: 1 [44160/60000 (74%)]\tLoss: 0.141578\n",
      "Train Epoch: 1 [44800/60000 (75%)]\tLoss: 0.564987\n",
      "Train Epoch: 1 [45440/60000 (76%)]\tLoss: 0.109931\n",
      "Train Epoch: 1 [46080/60000 (77%)]\tLoss: 0.155485\n",
      "Train Epoch: 1 [46720/60000 (78%)]\tLoss: 0.082212\n",
      "Train Epoch: 1 [47360/60000 (79%)]\tLoss: 0.136908\n",
      "Train Epoch: 1 [48000/60000 (80%)]\tLoss: 0.279200\n",
      "Train Epoch: 1 [48640/60000 (81%)]\tLoss: 0.046614\n",
      "Train Epoch: 1 [49280/60000 (82%)]\tLoss: 0.121756\n",
      "Train Epoch: 1 [49920/60000 (83%)]\tLoss: 0.195974\n",
      "Train Epoch: 1 [50560/60000 (84%)]\tLoss: 0.025002\n",
      "Train Epoch: 1 [51200/60000 (85%)]\tLoss: 0.055831\n",
      "Train Epoch: 1 [51840/60000 (86%)]\tLoss: 0.269449\n",
      "Train Epoch: 1 [52480/60000 (87%)]\tLoss: 0.142719\n",
      "Train Epoch: 1 [53120/60000 (88%)]\tLoss: 0.144388\n",
      "Train Epoch: 1 [53760/60000 (90%)]\tLoss: 0.281162\n",
      "Train Epoch: 1 [54400/60000 (91%)]\tLoss: 0.069947\n",
      "Train Epoch: 1 [55040/60000 (92%)]\tLoss: 0.125215\n",
      "Train Epoch: 1 [55680/60000 (93%)]\tLoss: 0.058349\n",
      "Train Epoch: 1 [56320/60000 (94%)]\tLoss: 0.085982\n",
      "Train Epoch: 1 [56960/60000 (95%)]\tLoss: 0.130340\n",
      "Train Epoch: 1 [57600/60000 (96%)]\tLoss: 0.164531\n",
      "Train Epoch: 1 [58240/60000 (97%)]\tLoss: 0.075938\n",
      "Train Epoch: 1 [58880/60000 (98%)]\tLoss: 0.042806\n",
      "Train Epoch: 1 [59520/60000 (99%)]\tLoss: 0.272687\n",
      "\n",
      "\n",
      "Test set: Average loss: 0.0496, Accuracy: 9832/10000 (98%)\n",
      "\n"
     ]
    },
    {
     "data": {
      "application/vnd.jupyter.widget-view+json": {
       "model_id": "386e94a6099d4d0eb93f04e09d27b829",
       "version_major": 2,
       "version_minor": 0
      },
      "text/plain": [
       "HBox(children=(HTML(value='Batch'), FloatProgress(value=1.0, bar_style='info', layout=Layout(width='20px'), ma…"
      ]
     },
     "metadata": {},
     "output_type": "display_data"
    },
    {
     "name": "stdout",
     "output_type": "stream",
     "text": [
      "Train Epoch: 2 [0/60000 (0%)]\tLoss: 0.049946\n",
      "Train Epoch: 2 [640/60000 (1%)]\tLoss: 0.081982\n",
      "Train Epoch: 2 [1280/60000 (2%)]\tLoss: 0.046863\n",
      "Train Epoch: 2 [1920/60000 (3%)]\tLoss: 0.056075\n",
      "\n"
     ]
    },
    {
     "ename": "KeyboardInterrupt",
     "evalue": "",
     "output_type": "error",
     "traceback": [
      "\u001b[0;31m---------------------------------------------------------------------------\u001b[0m",
      "\u001b[0;31mKeyboardInterrupt\u001b[0m                         Traceback (most recent call last)",
      "\u001b[0;32m<ipython-input-141-481052a07b65>\u001b[0m in \u001b[0;36m<module>\u001b[0;34m\u001b[0m\n\u001b[1;32m      1\u001b[0m \u001b[0;32mfor\u001b[0m \u001b[0mepoch\u001b[0m \u001b[0;32min\u001b[0m \u001b[0mrange\u001b[0m\u001b[0;34m(\u001b[0m\u001b[0;36m1\u001b[0m\u001b[0;34m,\u001b[0m \u001b[0;36m14\u001b[0m\u001b[0;34m+\u001b[0m\u001b[0;36m1\u001b[0m\u001b[0;34m)\u001b[0m\u001b[0;34m:\u001b[0m\u001b[0;34m\u001b[0m\u001b[0;34m\u001b[0m\u001b[0m\n\u001b[0;32m----> 2\u001b[0;31m     \u001b[0mtrain\u001b[0m\u001b[0;34m(\u001b[0m\u001b[0mcls\u001b[0m\u001b[0;34m,\u001b[0m \u001b[0mtrain_loader\u001b[0m\u001b[0;34m,\u001b[0m \u001b[0mcls_optimiser\u001b[0m\u001b[0;34m,\u001b[0m \u001b[0mepoch\u001b[0m\u001b[0;34m)\u001b[0m\u001b[0;34m\u001b[0m\u001b[0;34m\u001b[0m\u001b[0m\n\u001b[0m\u001b[1;32m      3\u001b[0m     \u001b[0mtest\u001b[0m\u001b[0;34m(\u001b[0m\u001b[0mcls\u001b[0m\u001b[0;34m,\u001b[0m \u001b[0mtest_loader\u001b[0m\u001b[0;34m)\u001b[0m\u001b[0;34m\u001b[0m\u001b[0;34m\u001b[0m\u001b[0m\n\u001b[1;32m      4\u001b[0m     \u001b[0mcls_scheduler\u001b[0m\u001b[0;34m.\u001b[0m\u001b[0mstep\u001b[0m\u001b[0;34m(\u001b[0m\u001b[0;34m)\u001b[0m\u001b[0;34m\u001b[0m\u001b[0;34m\u001b[0m\u001b[0m\n",
      "\u001b[0;32m<ipython-input-138-122659ae2528>\u001b[0m in \u001b[0;36mtrain\u001b[0;34m(model, train_loader, optimiser, epoch)\u001b[0m\n\u001b[1;32m      6\u001b[0m         \u001b[0moutput\u001b[0m \u001b[0;34m=\u001b[0m \u001b[0mmodel\u001b[0m\u001b[0;34m(\u001b[0m\u001b[0mdata\u001b[0m\u001b[0;34m)\u001b[0m\u001b[0;34m\u001b[0m\u001b[0;34m\u001b[0m\u001b[0m\n\u001b[1;32m      7\u001b[0m         \u001b[0mloss\u001b[0m \u001b[0;34m=\u001b[0m \u001b[0mF\u001b[0m\u001b[0;34m.\u001b[0m\u001b[0mnll_loss\u001b[0m\u001b[0;34m(\u001b[0m\u001b[0moutput\u001b[0m\u001b[0;34m,\u001b[0m \u001b[0mtarget\u001b[0m\u001b[0;34m)\u001b[0m\u001b[0;34m\u001b[0m\u001b[0;34m\u001b[0m\u001b[0m\n\u001b[0;32m----> 8\u001b[0;31m         \u001b[0mloss\u001b[0m\u001b[0;34m.\u001b[0m\u001b[0mbackward\u001b[0m\u001b[0;34m(\u001b[0m\u001b[0;34m)\u001b[0m\u001b[0;34m\u001b[0m\u001b[0;34m\u001b[0m\u001b[0m\n\u001b[0m\u001b[1;32m      9\u001b[0m         \u001b[0moptimiser\u001b[0m\u001b[0;34m.\u001b[0m\u001b[0mstep\u001b[0m\u001b[0;34m(\u001b[0m\u001b[0;34m)\u001b[0m\u001b[0;34m\u001b[0m\u001b[0;34m\u001b[0m\u001b[0m\n\u001b[1;32m     10\u001b[0m \u001b[0;34m\u001b[0m\u001b[0m\n",
      "\u001b[0;32m~/opt/miniconda3/envs/entrovae-env/lib/python3.8/site-packages/torch/tensor.py\u001b[0m in \u001b[0;36mbackward\u001b[0;34m(self, gradient, retain_graph, create_graph)\u001b[0m\n\u001b[1;32m    219\u001b[0m                 \u001b[0mretain_graph\u001b[0m\u001b[0;34m=\u001b[0m\u001b[0mretain_graph\u001b[0m\u001b[0;34m,\u001b[0m\u001b[0;34m\u001b[0m\u001b[0;34m\u001b[0m\u001b[0m\n\u001b[1;32m    220\u001b[0m                 create_graph=create_graph)\n\u001b[0;32m--> 221\u001b[0;31m         \u001b[0mtorch\u001b[0m\u001b[0;34m.\u001b[0m\u001b[0mautograd\u001b[0m\u001b[0;34m.\u001b[0m\u001b[0mbackward\u001b[0m\u001b[0;34m(\u001b[0m\u001b[0mself\u001b[0m\u001b[0;34m,\u001b[0m \u001b[0mgradient\u001b[0m\u001b[0;34m,\u001b[0m \u001b[0mretain_graph\u001b[0m\u001b[0;34m,\u001b[0m \u001b[0mcreate_graph\u001b[0m\u001b[0;34m)\u001b[0m\u001b[0;34m\u001b[0m\u001b[0;34m\u001b[0m\u001b[0m\n\u001b[0m\u001b[1;32m    222\u001b[0m \u001b[0;34m\u001b[0m\u001b[0m\n\u001b[1;32m    223\u001b[0m     \u001b[0;32mdef\u001b[0m \u001b[0mregister_hook\u001b[0m\u001b[0;34m(\u001b[0m\u001b[0mself\u001b[0m\u001b[0;34m,\u001b[0m \u001b[0mhook\u001b[0m\u001b[0;34m)\u001b[0m\u001b[0;34m:\u001b[0m\u001b[0;34m\u001b[0m\u001b[0;34m\u001b[0m\u001b[0m\n",
      "\u001b[0;32m~/opt/miniconda3/envs/entrovae-env/lib/python3.8/site-packages/torch/autograd/__init__.py\u001b[0m in \u001b[0;36mbackward\u001b[0;34m(tensors, grad_tensors, retain_graph, create_graph, grad_variables)\u001b[0m\n\u001b[1;32m    128\u001b[0m         \u001b[0mretain_graph\u001b[0m \u001b[0;34m=\u001b[0m \u001b[0mcreate_graph\u001b[0m\u001b[0;34m\u001b[0m\u001b[0;34m\u001b[0m\u001b[0m\n\u001b[1;32m    129\u001b[0m \u001b[0;34m\u001b[0m\u001b[0m\n\u001b[0;32m--> 130\u001b[0;31m     Variable._execution_engine.run_backward(\n\u001b[0m\u001b[1;32m    131\u001b[0m         \u001b[0mtensors\u001b[0m\u001b[0;34m,\u001b[0m \u001b[0mgrad_tensors_\u001b[0m\u001b[0;34m,\u001b[0m \u001b[0mretain_graph\u001b[0m\u001b[0;34m,\u001b[0m \u001b[0mcreate_graph\u001b[0m\u001b[0;34m,\u001b[0m\u001b[0;34m\u001b[0m\u001b[0;34m\u001b[0m\u001b[0m\n\u001b[1;32m    132\u001b[0m         allow_unreachable=True)  # allow_unreachable flag\n",
      "\u001b[0;31mKeyboardInterrupt\u001b[0m: "
     ]
    }
   ],
   "source": [
    "for epoch in range(1, 14+1):\n",
    "    train(cls, train_loader, cls_optimiser, epoch)\n",
    "    test(cls, test_loader)\n",
    "    cls_scheduler.step()"
   ]
  },
  {
   "cell_type": "markdown",
   "metadata": {},
   "source": [
    "## Set up EntroVAE and VAE datasets. \n",
    "* For ***EntroVAE*** use entropies as well as the data.\n",
    "* For ***VAE***, dataset is simply the images."
   ]
  },
  {
   "cell_type": "code",
   "execution_count": 258,
   "metadata": {},
   "outputs": [],
   "source": [
    "pred_loader = torch.utils.data.DataLoader(train_dataset, batch_size=64, shuffle=False)\n",
    "probs = torch.zeros(len(train_dataset), 10)\n",
    "with torch.no_grad():\n",
    "    for batch_idx, (data, target) in enumerate(pred_loader):\n",
    "        probs[batch_idx*64:(batch_idx+1)*64] = cls(data).detach().exp()\n",
    "        \n",
    "entropies = - (probs * probs.log()).sum(1)"
   ]
  },
  {
   "cell_type": "code",
   "execution_count": 280,
   "metadata": {},
   "outputs": [],
   "source": [
    "class EntroVAEDataset(torch.utils.data.Dataset):\n",
    "    def __init__(self, data, entropy):\n",
    "        self.data = data\n",
    "        self.entropy = entropy\n",
    "    \n",
    "    def __len__(self):\n",
    "        return len(self.data)\n",
    "    \n",
    "    def __getitem__(self, idx):\n",
    "        if torch.is_tensor(idx):\n",
    "            idx = idx.tolist()\n",
    "            \n",
    "        return self.data[idx, ...], self.entropy[idx]\n",
    "    \n",
    "entrovae_dataset = EntroVAEDataset(train_dataset.data, entropies)\n",
    "    \n",
    "entrovae_loader = torch.utils.data.DataLoader(entrovae_dataset, batch_size=64)\n",
    "vae_loader = torch.utils.data.DataLoader(train_dataset.data, batch_size=64)"
   ]
  },
  {
   "cell_type": "code",
   "execution_count": 281,
   "metadata": {},
   "outputs": [],
   "source": [
    "def train_vae(model, train_loader, optimiser, epoch):\n",
    "    model.train()\n",
    "    train_loss = 0\n",
    "    batch_iter = tqdm.tqdm(enumerate(train_loader), desc='Batch')\n",
    "    \n",
    "    for batch_idx, data in batch_iter:\n",
    "        optimiser.zero_grad()\n",
    "        \n",
    "        if isinstance(data, tuple) or isinstance(data, list):\n",
    "            data, h = data\n",
    "            data = data.view(-1, 784).float() / 255\n",
    "            elbo = vae_elbo(model, data, h)\n",
    "        else:\n",
    "            data = data.view(-1, 784).float() / 255\n",
    "            elbo = vae_elbo(model, data)\n",
    "            \n",
    "        loss = - elbo / data.shape[0]\n",
    "        loss.backward()\n",
    "        train_loss += loss.item()\n",
    "        optimiser.step()\n",
    "        \n",
    "        if batch_idx % 10 == 0:\n",
    "            batch_iter.set_postfix(loss=loss.item())\n",
    "            \n",
    "    print('====> Epoch: {} Average loss: {:.4f}'.format(epoch, train_loss / len(train_loader.dataset)))"
   ]
  },
  {
   "cell_type": "code",
   "execution_count": 287,
   "metadata": {},
   "outputs": [],
   "source": [
    "z_dim = 2\n",
    "x_dim = 784\n",
    "\n",
    "encoder = sgpvae.networks.LinearGaussian(x_dim, z_dim, [512, 256], min_sigma=1e-3)\n",
    "decoder = sgpvae.networks.LinearNN(z_dim, x_dim, [256, 512])\n",
    "\n",
    "vae = VAE(copy.deepcopy(encoder), copy.deepcopy(decoder), z_dim)\n",
    "entrovae = EntroVAE(copy.deepcopy(encoder), copy.deepcopy(decoder), z_dim)"
   ]
  },
  {
   "cell_type": "markdown",
   "metadata": {},
   "source": [
    "## VAE training."
   ]
  },
  {
   "cell_type": "code",
   "execution_count": 227,
   "metadata": {
    "scrolled": true
   },
   "outputs": [
    {
     "data": {
      "application/vnd.jupyter.widget-view+json": {
       "model_id": "4c069ec60fa04d3a8e8fa426a9b38511",
       "version_major": 2,
       "version_minor": 0
      },
      "text/plain": [
       "HBox(children=(HTML(value='Batch'), FloatProgress(value=1.0, bar_style='info', layout=Layout(width='20px'), ma…"
      ]
     },
     "metadata": {},
     "output_type": "display_data"
    },
    {
     "name": "stdout",
     "output_type": "stream",
     "text": [
      "\n",
      "====> Epoch: 1 Average loss: 2.7424\n"
     ]
    },
    {
     "data": {
      "application/vnd.jupyter.widget-view+json": {
       "model_id": "7dd1ab5afa4a4231ac0a60c7f76b6f7e",
       "version_major": 2,
       "version_minor": 0
      },
      "text/plain": [
       "HBox(children=(HTML(value='Batch'), FloatProgress(value=1.0, bar_style='info', layout=Layout(width='20px'), ma…"
      ]
     },
     "metadata": {},
     "output_type": "display_data"
    },
    {
     "name": "stdout",
     "output_type": "stream",
     "text": [
      "\n",
      "====> Epoch: 2 Average loss: 2.4491\n"
     ]
    },
    {
     "data": {
      "application/vnd.jupyter.widget-view+json": {
       "model_id": "7337ea8c118146baab49d0acc876cd93",
       "version_major": 2,
       "version_minor": 0
      },
      "text/plain": [
       "HBox(children=(HTML(value='Batch'), FloatProgress(value=1.0, bar_style='info', layout=Layout(width='20px'), ma…"
      ]
     },
     "metadata": {},
     "output_type": "display_data"
    },
    {
     "name": "stdout",
     "output_type": "stream",
     "text": [
      "\n",
      "====> Epoch: 3 Average loss: 2.3604\n"
     ]
    },
    {
     "data": {
      "application/vnd.jupyter.widget-view+json": {
       "model_id": "e8849e3c3ff34a9ba28ec378524ef7c1",
       "version_major": 2,
       "version_minor": 0
      },
      "text/plain": [
       "HBox(children=(HTML(value='Batch'), FloatProgress(value=1.0, bar_style='info', layout=Layout(width='20px'), ma…"
      ]
     },
     "metadata": {},
     "output_type": "display_data"
    },
    {
     "name": "stdout",
     "output_type": "stream",
     "text": [
      "\n",
      "====> Epoch: 4 Average loss: 2.3146\n"
     ]
    },
    {
     "data": {
      "application/vnd.jupyter.widget-view+json": {
       "model_id": "0e56888a2938451f95f7cf4187991688",
       "version_major": 2,
       "version_minor": 0
      },
      "text/plain": [
       "HBox(children=(HTML(value='Batch'), FloatProgress(value=1.0, bar_style='info', layout=Layout(width='20px'), ma…"
      ]
     },
     "metadata": {},
     "output_type": "display_data"
    },
    {
     "name": "stdout",
     "output_type": "stream",
     "text": [
      "\n",
      "====> Epoch: 5 Average loss: 2.2844\n"
     ]
    },
    {
     "data": {
      "application/vnd.jupyter.widget-view+json": {
       "model_id": "bbbb49c9aa2b4b64884442eacd98eb4d",
       "version_major": 2,
       "version_minor": 0
      },
      "text/plain": [
       "HBox(children=(HTML(value='Batch'), FloatProgress(value=1.0, bar_style='info', layout=Layout(width='20px'), ma…"
      ]
     },
     "metadata": {},
     "output_type": "display_data"
    },
    {
     "name": "stdout",
     "output_type": "stream",
     "text": [
      "\n",
      "====> Epoch: 6 Average loss: 2.2657\n"
     ]
    },
    {
     "data": {
      "application/vnd.jupyter.widget-view+json": {
       "model_id": "041a9d4ded45490cb29ac127d8706f8c",
       "version_major": 2,
       "version_minor": 0
      },
      "text/plain": [
       "HBox(children=(HTML(value='Batch'), FloatProgress(value=1.0, bar_style='info', layout=Layout(width='20px'), ma…"
      ]
     },
     "metadata": {},
     "output_type": "display_data"
    },
    {
     "name": "stdout",
     "output_type": "stream",
     "text": [
      "\n",
      "====> Epoch: 7 Average loss: 2.2531\n"
     ]
    },
    {
     "data": {
      "application/vnd.jupyter.widget-view+json": {
       "model_id": "9737e8adc0554070a34eab76c03ac4b1",
       "version_major": 2,
       "version_minor": 0
      },
      "text/plain": [
       "HBox(children=(HTML(value='Batch'), FloatProgress(value=1.0, bar_style='info', layout=Layout(width='20px'), ma…"
      ]
     },
     "metadata": {},
     "output_type": "display_data"
    },
    {
     "name": "stdout",
     "output_type": "stream",
     "text": [
      "\n",
      "====> Epoch: 8 Average loss: 2.2405\n"
     ]
    },
    {
     "data": {
      "application/vnd.jupyter.widget-view+json": {
       "model_id": "98476de1f42a47d78eddab6994fe25f2",
       "version_major": 2,
       "version_minor": 0
      },
      "text/plain": [
       "HBox(children=(HTML(value='Batch'), FloatProgress(value=1.0, bar_style='info', layout=Layout(width='20px'), ma…"
      ]
     },
     "metadata": {},
     "output_type": "display_data"
    },
    {
     "name": "stdout",
     "output_type": "stream",
     "text": [
      "\n",
      "====> Epoch: 9 Average loss: 2.2287\n"
     ]
    },
    {
     "data": {
      "application/vnd.jupyter.widget-view+json": {
       "model_id": "b1d43041bb72459e9533a7c137eb5280",
       "version_major": 2,
       "version_minor": 0
      },
      "text/plain": [
       "HBox(children=(HTML(value='Batch'), FloatProgress(value=1.0, bar_style='info', layout=Layout(width='20px'), ma…"
      ]
     },
     "metadata": {},
     "output_type": "display_data"
    },
    {
     "name": "stdout",
     "output_type": "stream",
     "text": [
      "\n",
      "====> Epoch: 10 Average loss: 2.2161\n"
     ]
    },
    {
     "data": {
      "application/vnd.jupyter.widget-view+json": {
       "model_id": "fa6f07667e894644976707d12b0bbb1f",
       "version_major": 2,
       "version_minor": 0
      },
      "text/plain": [
       "HBox(children=(HTML(value='Batch'), FloatProgress(value=1.0, bar_style='info', layout=Layout(width='20px'), ma…"
      ]
     },
     "metadata": {},
     "output_type": "display_data"
    },
    {
     "name": "stdout",
     "output_type": "stream",
     "text": [
      "\n",
      "====> Epoch: 11 Average loss: 2.2137\n"
     ]
    },
    {
     "data": {
      "application/vnd.jupyter.widget-view+json": {
       "model_id": "e25b8ce886f746a29eb8f5a2ac90dd10",
       "version_major": 2,
       "version_minor": 0
      },
      "text/plain": [
       "HBox(children=(HTML(value='Batch'), FloatProgress(value=1.0, bar_style='info', layout=Layout(width='20px'), ma…"
      ]
     },
     "metadata": {},
     "output_type": "display_data"
    },
    {
     "name": "stdout",
     "output_type": "stream",
     "text": [
      "\n",
      "====> Epoch: 12 Average loss: 2.2082\n"
     ]
    },
    {
     "data": {
      "application/vnd.jupyter.widget-view+json": {
       "model_id": "b6ede2d011bd4df69abb3121fe6adf34",
       "version_major": 2,
       "version_minor": 0
      },
      "text/plain": [
       "HBox(children=(HTML(value='Batch'), FloatProgress(value=1.0, bar_style='info', layout=Layout(width='20px'), ma…"
      ]
     },
     "metadata": {},
     "output_type": "display_data"
    },
    {
     "name": "stdout",
     "output_type": "stream",
     "text": [
      "\n",
      "====> Epoch: 13 Average loss: 2.2020\n"
     ]
    },
    {
     "data": {
      "application/vnd.jupyter.widget-view+json": {
       "model_id": "2ec46edc1de14f7ba617f8f25fd92438",
       "version_major": 2,
       "version_minor": 0
      },
      "text/plain": [
       "HBox(children=(HTML(value='Batch'), FloatProgress(value=1.0, bar_style='info', layout=Layout(width='20px'), ma…"
      ]
     },
     "metadata": {},
     "output_type": "display_data"
    },
    {
     "name": "stdout",
     "output_type": "stream",
     "text": [
      "\n",
      "====> Epoch: 14 Average loss: 2.1981\n"
     ]
    }
   ],
   "source": [
    "vae_optimiser = optim.Adam(vae.parameters())\n",
    "for epoch in range(1, 14+1):\n",
    "    train_vae(vae, vae_loader, vae_optimiser, epoch)"
   ]
  },
  {
   "cell_type": "code",
   "execution_count": 232,
   "metadata": {},
   "outputs": [],
   "source": [
    "with torch.no_grad():\n",
    "    z = torch.zeros(100, 2)\n",
    "    for i, x in enumerate(torch.linspace(-2, 2, 10, dtype=torch.float32)):\n",
    "        for j, y in enumerate(torch.linspace(-2, 2, 10, dtype=torch.float32)):\n",
    "            idx = 10 * i + j\n",
    "            z[idx, :] = torch.tensor([x, y])\n",
    "            \n",
    "    sample = vae.decoder(z)\n",
    "    \n",
    "    filename = './samples/vae_sample'\n",
    "    \n",
    "    if os.path.exists(filename + '.png'):\n",
    "        i = 1\n",
    "        while os.path.exists(filename + '_' + str(i) + '.png'):\n",
    "            i += 1\n",
    "            \n",
    "        filename = filename + '_' + str(i) + '.png'\n",
    "        \n",
    "    else:\n",
    "        filename = filename + '.png'\n",
    "    \n",
    "    save_image(sample.view(100, 1, 28, 28), filename)"
   ]
  },
  {
   "cell_type": "markdown",
   "metadata": {},
   "source": [
    "## EntroVAE training."
   ]
  },
  {
   "cell_type": "code",
   "execution_count": 288,
   "metadata": {
    "scrolled": true
   },
   "outputs": [
    {
     "data": {
      "application/vnd.jupyter.widget-view+json": {
       "model_id": "7ba41c34c9374af0be80e1afade1782b",
       "version_major": 2,
       "version_minor": 0
      },
      "text/plain": [
       "HBox(children=(HTML(value='Batch'), FloatProgress(value=1.0, bar_style='info', layout=Layout(width='20px'), ma…"
      ]
     },
     "metadata": {},
     "output_type": "display_data"
    },
    {
     "name": "stdout",
     "output_type": "stream",
     "text": [
      "\n",
      "====> Epoch: 1 Average loss: 2.8167\n"
     ]
    },
    {
     "data": {
      "application/vnd.jupyter.widget-view+json": {
       "model_id": "0f3566ac71de46349a3bd6e299b2c06d",
       "version_major": 2,
       "version_minor": 0
      },
      "text/plain": [
       "HBox(children=(HTML(value='Batch'), FloatProgress(value=1.0, bar_style='info', layout=Layout(width='20px'), ma…"
      ]
     },
     "metadata": {},
     "output_type": "display_data"
    },
    {
     "name": "stdout",
     "output_type": "stream",
     "text": [
      "\n",
      "====> Epoch: 2 Average loss: 2.5384\n"
     ]
    },
    {
     "data": {
      "application/vnd.jupyter.widget-view+json": {
       "model_id": "e3bbf0f417b14b9e81188c2ff6f51994",
       "version_major": 2,
       "version_minor": 0
      },
      "text/plain": [
       "HBox(children=(HTML(value='Batch'), FloatProgress(value=1.0, bar_style='info', layout=Layout(width='20px'), ma…"
      ]
     },
     "metadata": {},
     "output_type": "display_data"
    },
    {
     "name": "stdout",
     "output_type": "stream",
     "text": [
      "\n",
      "====> Epoch: 3 Average loss: 2.4656\n"
     ]
    },
    {
     "data": {
      "application/vnd.jupyter.widget-view+json": {
       "model_id": "a9e4d9b69d584ea888167f730c53b647",
       "version_major": 2,
       "version_minor": 0
      },
      "text/plain": [
       "HBox(children=(HTML(value='Batch'), FloatProgress(value=1.0, bar_style='info', layout=Layout(width='20px'), ma…"
      ]
     },
     "metadata": {},
     "output_type": "display_data"
    },
    {
     "name": "stdout",
     "output_type": "stream",
     "text": [
      "\n",
      "====> Epoch: 4 Average loss: 2.4169\n"
     ]
    },
    {
     "data": {
      "application/vnd.jupyter.widget-view+json": {
       "model_id": "c849f27881364c71aca330bafc434b99",
       "version_major": 2,
       "version_minor": 0
      },
      "text/plain": [
       "HBox(children=(HTML(value='Batch'), FloatProgress(value=1.0, bar_style='info', layout=Layout(width='20px'), ma…"
      ]
     },
     "metadata": {},
     "output_type": "display_data"
    },
    {
     "name": "stdout",
     "output_type": "stream",
     "text": [
      "\n",
      "====> Epoch: 5 Average loss: 2.3847\n"
     ]
    },
    {
     "data": {
      "application/vnd.jupyter.widget-view+json": {
       "model_id": "cbf8c4b46422402f8e017f2b6aeb80b9",
       "version_major": 2,
       "version_minor": 0
      },
      "text/plain": [
       "HBox(children=(HTML(value='Batch'), FloatProgress(value=1.0, bar_style='info', layout=Layout(width='20px'), ma…"
      ]
     },
     "metadata": {},
     "output_type": "display_data"
    },
    {
     "name": "stdout",
     "output_type": "stream",
     "text": [
      "\n",
      "====> Epoch: 6 Average loss: 2.3670\n"
     ]
    },
    {
     "data": {
      "application/vnd.jupyter.widget-view+json": {
       "model_id": "bf0bdf7736fd45f9b273e35cd12c464b",
       "version_major": 2,
       "version_minor": 0
      },
      "text/plain": [
       "HBox(children=(HTML(value='Batch'), FloatProgress(value=1.0, bar_style='info', layout=Layout(width='20px'), ma…"
      ]
     },
     "metadata": {},
     "output_type": "display_data"
    },
    {
     "name": "stdout",
     "output_type": "stream",
     "text": [
      "\n",
      "====> Epoch: 7 Average loss: 2.3474\n"
     ]
    },
    {
     "data": {
      "application/vnd.jupyter.widget-view+json": {
       "model_id": "914f6ca58e9f4cb9ab32564abf800495",
       "version_major": 2,
       "version_minor": 0
      },
      "text/plain": [
       "HBox(children=(HTML(value='Batch'), FloatProgress(value=1.0, bar_style='info', layout=Layout(width='20px'), ma…"
      ]
     },
     "metadata": {},
     "output_type": "display_data"
    },
    {
     "name": "stdout",
     "output_type": "stream",
     "text": [
      "\n",
      "====> Epoch: 8 Average loss: 2.3300\n"
     ]
    },
    {
     "data": {
      "application/vnd.jupyter.widget-view+json": {
       "model_id": "d6b2cb82cb2e476cb18c75cb06616099",
       "version_major": 2,
       "version_minor": 0
      },
      "text/plain": [
       "HBox(children=(HTML(value='Batch'), FloatProgress(value=1.0, bar_style='info', layout=Layout(width='20px'), ma…"
      ]
     },
     "metadata": {},
     "output_type": "display_data"
    },
    {
     "name": "stdout",
     "output_type": "stream",
     "text": [
      "\n",
      "====> Epoch: 9 Average loss: 2.3171\n"
     ]
    },
    {
     "data": {
      "application/vnd.jupyter.widget-view+json": {
       "model_id": "6f7c44f96f7e49fbae5657dcd31c6bda",
       "version_major": 2,
       "version_minor": 0
      },
      "text/plain": [
       "HBox(children=(HTML(value='Batch'), FloatProgress(value=1.0, bar_style='info', layout=Layout(width='20px'), ma…"
      ]
     },
     "metadata": {},
     "output_type": "display_data"
    },
    {
     "name": "stdout",
     "output_type": "stream",
     "text": [
      "\n",
      "====> Epoch: 10 Average loss: 2.3078\n"
     ]
    },
    {
     "data": {
      "application/vnd.jupyter.widget-view+json": {
       "model_id": "f8dc72e90cc24146aa407cad73fa335a",
       "version_major": 2,
       "version_minor": 0
      },
      "text/plain": [
       "HBox(children=(HTML(value='Batch'), FloatProgress(value=1.0, bar_style='info', layout=Layout(width='20px'), ma…"
      ]
     },
     "metadata": {},
     "output_type": "display_data"
    },
    {
     "name": "stdout",
     "output_type": "stream",
     "text": [
      "\n",
      "====> Epoch: 11 Average loss: 2.2985\n"
     ]
    },
    {
     "data": {
      "application/vnd.jupyter.widget-view+json": {
       "model_id": "a993110bdfd84b8b862aa3bd1e594cc0",
       "version_major": 2,
       "version_minor": 0
      },
      "text/plain": [
       "HBox(children=(HTML(value='Batch'), FloatProgress(value=1.0, bar_style='info', layout=Layout(width='20px'), ma…"
      ]
     },
     "metadata": {},
     "output_type": "display_data"
    },
    {
     "name": "stdout",
     "output_type": "stream",
     "text": [
      "\n",
      "====> Epoch: 12 Average loss: 2.2943\n"
     ]
    },
    {
     "data": {
      "application/vnd.jupyter.widget-view+json": {
       "model_id": "e08e708e48184ea483a1ae5ef0c06877",
       "version_major": 2,
       "version_minor": 0
      },
      "text/plain": [
       "HBox(children=(HTML(value='Batch'), FloatProgress(value=1.0, bar_style='info', layout=Layout(width='20px'), ma…"
      ]
     },
     "metadata": {},
     "output_type": "display_data"
    },
    {
     "name": "stdout",
     "output_type": "stream",
     "text": [
      "\n",
      "====> Epoch: 13 Average loss: 2.2823\n"
     ]
    },
    {
     "data": {
      "application/vnd.jupyter.widget-view+json": {
       "model_id": "81d2a8461d1743d5a7c19ad0e4ba41de",
       "version_major": 2,
       "version_minor": 0
      },
      "text/plain": [
       "HBox(children=(HTML(value='Batch'), FloatProgress(value=1.0, bar_style='info', layout=Layout(width='20px'), ma…"
      ]
     },
     "metadata": {},
     "output_type": "display_data"
    },
    {
     "name": "stdout",
     "output_type": "stream",
     "text": [
      "\n",
      "====> Epoch: 14 Average loss: 2.2796\n"
     ]
    }
   ],
   "source": [
    "entrovae_optimiser = optim.Adam(entrovae.parameters())\n",
    "for epoch in range(1, 14+1):\n",
    "    train_vae(entrovae, entrovae_loader, entrovae_optimiser, epoch)"
   ]
  },
  {
   "cell_type": "code",
   "execution_count": 289,
   "metadata": {},
   "outputs": [],
   "source": [
    "with torch.no_grad():\n",
    "    z = torch.zeros(100, 2)\n",
    "    for i, x in enumerate(torch.linspace(-2, 2, 10, dtype=torch.float32)):\n",
    "        for j, y in enumerate(torch.linspace(-2, 2, 10, dtype=torch.float32)):\n",
    "            idx = 10 * i + j\n",
    "            z[idx, :] = torch.tensor([x, y])\n",
    "            \n",
    "    sample = entrovae.decoder(z)\n",
    "    \n",
    "    filename = './samples/entrovae_sample'\n",
    "    \n",
    "    if os.path.exists(filename + '.png'):\n",
    "        i = 1\n",
    "        while os.path.exists(filename + '_' + str(i) + '.png'):\n",
    "            i += 1\n",
    "            \n",
    "        filename = filename + '_' + str(i) + '.png'\n",
    "        \n",
    "    else:\n",
    "        filename = filename + '.png'\n",
    "    \n",
    "    save_image(sample.view(100, 1, 28, 28), filename)"
   ]
  },
  {
   "cell_type": "markdown",
   "metadata": {},
   "source": [
    "## Compare disentalglement of latent space?\n",
    "* Not sure what to use here tbh."
   ]
  },
  {
   "cell_type": "code",
   "execution_count": 124,
   "metadata": {},
   "outputs": [],
   "source": [
    "class ClassificationNet(nn.Module):\n",
    "    def __init__(self):\n",
    "        super().__init__()\n",
    "        self.conv1 = nn.Conv2d(1, 32, 3, 1)\n",
    "        self.conv2 = nn.Conv2d(32, 64, 3, 1)\n",
    "        self.dropout1 = nn.Dropout(0.25)\n",
    "        self.dropout2 = nn.Dropout(0.5)\n",
    "        self.fc1 = nn.Linear(9216, 128)\n",
    "        self.fc2 = nn.Linear(128, 10)\n",
    "\n",
    "    def forward(self, x):\n",
    "        x = self.conv1(x)\n",
    "        x = F.relu(x)\n",
    "        x = self.conv2(x)\n",
    "        x = F.relu(x)\n",
    "        x = F.max_pool2d(x, 2)\n",
    "        x = self.dropout1(x)\n",
    "        x = torch.flatten(x, 1)\n",
    "        x = self.fc1(x)\n",
    "        x = F.relu(x)\n",
    "        x = self.dropout2(x)\n",
    "        x = self.fc2(x)\n",
    "        output = F.log_softmax(x, dim=1)\n",
    "        return output"
   ]
  },
  {
   "cell_type": "code",
   "execution_count": 286,
   "metadata": {},
   "outputs": [],
   "source": [
    "class VAE(nn.Module):\n",
    "    def __init__(self, encoder, decoder, latent_dim):\n",
    "        super().__init__()\n",
    "\n",
    "        self.encoder = encoder\n",
    "        self.decoder = decoder\n",
    "        self.latent_dim = latent_dim\n",
    "\n",
    "    def latent_posterior(self, x):\n",
    "        qz_mu, qz_sigma = self.encoder(x)\n",
    "\n",
    "        # Reshape.\n",
    "        qz_mu = qz_mu.transpose(0, 1)\n",
    "        qz_sigma = qz_sigma.transpose(0, 1)\n",
    "\n",
    "        return qz_mu, qz_sigma\n",
    "\n",
    "    def sample_prior(self, num_samples=1):\n",
    "        \"\"\"Sample latent prior.\"\"\"\n",
    "        z = torch.randn(num_samples, self.latent_dim)\n",
    "\n",
    "        return self.decoder(z)\n",
    "\n",
    "    def sample_posterior(self, x, num_samples=1):\n",
    "        \"\"\"Sample latent posterior.\"\"\"\n",
    "        qz_mu, qz_sigma = self.latent_posterior(x)\n",
    "\n",
    "        samples = qz_mu + qz_sigma * torch.randn(num_samples, *qz_mu.shape)\n",
    "\n",
    "        # samples = [qz_mu + qz_sigma * torch.randn_like(qz_mu)\n",
    "        #            for _ in range(num_samples)]\n",
    "\n",
    "        return samples\n",
    "\n",
    "\n",
    "class EntroVAE(VAE):\n",
    "    def __init__(self, encoder, decoder, latent_dim, init_scale=1.):\n",
    "        super().__init__(encoder, decoder, latent_dim)\n",
    "\n",
    "        self.log_scale = nn.Parameter(torch.ones(latent_dim) * np.log(init_scale))\n",
    "\n",
    "    def latent_posterior(self, x, h):\n",
    "        qz_mu = self.encoder(x)[0]\n",
    "\n",
    "        # TODO: there is no bloody way this is right.\n",
    "        qz_sigma = h.unsqueeze(1).matmul(self.log_scale.exp().unsqueeze(0))\n",
    "        \n",
    "        # Add minimum sigma to prevent numerical instabilities.\n",
    "        qz_sigma += 1e-3\n",
    "\n",
    "        # Reshape.\n",
    "        qz_mu = qz_mu.transpose(0, 1)\n",
    "        qz_sigma = qz_sigma.transpose(0, 1)\n",
    "\n",
    "        return qz_mu, qz_sigma"
   ]
  },
  {
   "cell_type": "code",
   "execution_count": 157,
   "metadata": {},
   "outputs": [],
   "source": [
    "def loss_function(recon_x, x, mu, log_var):\n",
    "    bce = F.binary_cross_entropy(recon_x, x.view(-1, 784), reduction='sum')\n",
    "    kl = -0.5 * torch.sum(1 + log_var - mu.pow(2) - log_var.exp())\n",
    "    \n",
    "    return bce + kl"
   ]
  },
  {
   "cell_type": "code",
   "execution_count": 265,
   "metadata": {},
   "outputs": [],
   "source": [
    "def vae_elbo(model, x, h=None, num_samples=1):\n",
    "    elbo = 0\n",
    "    \n",
    "    if h is None:\n",
    "        qz_mu, qz_sigma = model.latent_posterior(x)\n",
    "    else:\n",
    "        qz_mu, qz_sigma = model.latent_posterior(x, h)\n",
    "\n",
    "    for _ in range(num_samples):\n",
    "        z = qz_mu + qz_sigma * torch.randn_like(qz_mu)\n",
    "        \n",
    "        # log p(x|z) term.\n",
    "        recon_x = F.sigmoid(model.decoder(z.T))\n",
    "        px_z_term = - F.binary_cross_entropy(recon_x, x, reduction='sum')\n",
    "        elbo += px_z_term\n",
    "\n",
    "    # Inner summation over samples from q(z).\n",
    "    elbo /= num_samples\n",
    "\n",
    "    # KL(q(z) | p(z))\n",
    "    pf_mu = torch.zeros_like(qz_mu)\n",
    "    pf_sigma = torch.ones_like(qz_sigma)\n",
    "    kl_term = gaussian_diagonal_kl(qz_mu, qz_sigma.pow(2), pf_mu,\n",
    "                                   pf_sigma.pow(2))\n",
    "    kl_term = kl_term.sum()\n",
    "    elbo += - kl_term\n",
    "\n",
    "    return elbo"
   ]
  },
  {
   "cell_type": "code",
   "execution_count": 209,
   "metadata": {},
   "outputs": [],
   "source": [
    "def gaussian_diagonal_kl(m1, v1, m2, v2):\n",
    "    kl = 0.5 * ((v2 / v1).log() + (v1 + (m1 - m2) ** 2) / v2 - 1)\n",
    "\n",
    "    # Sum over dimensions.\n",
    "    kl = kl.sum(1)\n",
    "\n",
    "    return kl"
   ]
  },
  {
   "cell_type": "code",
   "execution_count": null,
   "metadata": {},
   "outputs": [],
   "source": []
  }
 ],
 "metadata": {
  "kernelspec": {
   "display_name": "entrovae",
   "language": "python",
   "name": "entrovae"
  },
  "language_info": {
   "codemirror_mode": {
    "name": "ipython",
    "version": 3
   },
   "file_extension": ".py",
   "mimetype": "text/x-python",
   "name": "python",
   "nbconvert_exporter": "python",
   "pygments_lexer": "ipython3",
   "version": "3.8.5"
  }
 },
 "nbformat": 4,
 "nbformat_minor": 2
}
